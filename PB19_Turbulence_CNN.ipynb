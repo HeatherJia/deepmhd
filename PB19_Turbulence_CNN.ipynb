{
 "cells": [
  {
   "cell_type": "code",
   "execution_count": null,
   "metadata": {
    "collapsed": false
   },
   "outputs": [],
   "source": [
    "import keras\n",
    "from keras.datasets import mnist\n",
    "from keras.models import Sequential\n",
    "from keras.layers import Dense, Dropout, Flatten\n",
    "from keras.layers import Conv2D, MaxPooling2D\n",
    "from keras import backend as K\n",
    "import numpy as np\n",
    "%matplotlib inline\n",
    "from matplotlib import pyplot as plt"
   ]
  },
  {
   "cell_type": "markdown",
   "metadata": {},
   "source": [
    "Read in the data"
   ]
  },
  {
   "cell_type": "code",
   "execution_count": null,
   "metadata": {
    "collapsed": true
   },
   "outputs": [],
   "source": [
    "FFP = True\n",
    "ffpname = ''\n",
    "if FFP:\n",
    "    ffpname='_kp'\n",
    "\n",
    "batch_size = 128\n",
    "num_classes = 2\n",
    "\n",
    "# OK, now we need to load in the training data from both snapshots\n",
    "\n",
    "train_x_b1_1 = np.load('b1p.01XY_train'+ffpname+'_ss1_sh_64_ims_128.npy')\n",
    "train_x_b1_2 = np.load(path + 'b1p.01XY_train'+ffpname+'_ss1_sh_64_ims_128_2.npy')\n",
    "train_x_b1= np.concatenate((train_x_b1_1, train_x_b1_2), axis=2)\n",
    "\n",
    "train_x_b01_1 = np.load('b.1p.01XY_train'+ffpname+'_ss1_sh_64_ims_128.npy')\n",
    "train_x_b01_2 = np.load('b.1p.01XY_train'+ffpname+'_ss1_sh_64_ims_128_2.npy')\n",
    "train_x_b01= np.concatenate((train_x_b01_1, train_x_b01_2), axis=2)\n",
    "\n",
    "trshape = train_x_b1.shape\n",
    "\n",
    "# input image dimensions\n",
    "img_rows, img_cols = trshape[0], trshape[1]\n",
    "\n",
    "x_train = np.zeros([trshape[2]*2, img_rows, img_rows])\n",
    "x_train[::2, :, :] = np.transpose(train_x_b01)\n",
    "x_train[1::2, :, :] = np.transpose(train_x_b1)\n",
    "\n",
    "y_train = np.zeros([trshape[2]*2])\n",
    "y_train[::2] = np.zeros([trshape[2]])\n",
    "y_train[1::2] = np.ones([trshape[2]])\n",
    "\n",
    "#load in the test data from both snapshots\n",
    "\n",
    "test_x_b1_1 = np.load('b1p.01XY_test'+ffpname+'_ss1_sh_64_ims_128.npy')\n",
    "test_x_b1_2 = np.load('b1p.01XY_test'+ffpname+'_ss1_sh_64_ims_128_2.npy')\n",
    "test_x_b1 = np.concatenate((test_x_b1_1, test_x_b1_2), axis=2)\n",
    "\n",
    "test_x_b01_1 = np.load('b.1p.01XY_test'+ffpname+'_ss1_sh_64_ims_128.npy')\n",
    "test_x_b01_2 = np.load('b.1p.01XY_test'+ffpname+'_ss1_sh_64_ims_128_2.npy')\n",
    "test_x_b01 = np.concatenate((test_x_b01_1, test_x_b01_2), axis=2)\n",
    "\n",
    "teshape = test_x_b1.shape\n",
    "\n",
    "x_test = np.zeros([teshape[2]*2, img_rows, img_rows])\n",
    "x_test[::2, :, :] = np.transpose(test_x_b01)\n",
    "x_test[1::2, :, :] = np.transpose(test_x_b1)\n",
    "\n",
    "y_test = np.zeros([teshape[2]*2])\n",
    "y_test[::2] = np.zeros([teshape[2]])\n",
    "y_test[1::2] = np.ones([teshape[2]])\n"
   ]
  },
  {
   "cell_type": "markdown",
   "metadata": {},
   "source": [
    "Reformatting data for keras"
   ]
  },
  {
   "cell_type": "code",
   "execution_count": null,
   "metadata": {
    "collapsed": true
   },
   "outputs": [],
   "source": [
    "if K.image_data_format() == 'channels_first':\n",
    "    x_train = x_train.reshape(x_train.shape[0], 1, img_rows, img_cols)\n",
    "    x_test = x_test.reshape(x_test.shape[0], 1, img_rows, img_cols)\n",
    "    input_shape = (1, img_rows, img_cols)\n",
    "else:\n",
    "    x_train = x_train.reshape(x_train.shape[0], img_rows, img_cols, 1)\n",
    "    x_test = x_test.reshape(x_test.shape[0], img_rows, img_cols, 1)\n",
    "    input_shape = (img_rows, img_cols, 1)\n",
    "\n",
    "x_train = x_train.astype('float32')\n",
    "x_test = x_test.astype('float32')\n",
    "\n",
    "# convert class vectors to binary class matrices\n",
    "y_train = keras.utils.to_categorical(y_train, num_classes)\n",
    "y_test = keras.utils.to_categorical(y_test, num_classes)"
   ]
  },
  {
   "cell_type": "markdown",
   "metadata": {},
   "source": [
    "Build the network"
   ]
  },
  {
   "cell_type": "code",
   "execution_count": null,
   "metadata": {
    "collapsed": true
   },
   "outputs": [],
   "source": [
    "model = Sequential()\n",
    "\n",
    "model.add(Conv2D(32, kernel_size=(3, 3),\n",
    "                 activation='relu',\n",
    "                 input_shape=input_shape))\n",
    "model.add(Conv2D(32, (3, 3), activation='relu'))\n",
    "model.add(MaxPooling2D(pool_size=(2, 2)))\n",
    "model.add(Dropout(0.25))\n",
    "\n",
    "model.add(Conv2D(64, kernel_size=(3, 3), activation='relu', input_shape=input_shape))\n",
    "model.add(Conv2D(64, (3, 3), activation='relu'))\n",
    "model.add(MaxPooling2D(pool_size=(2, 2)))\n",
    "model.add(Dropout(0.25))\n",
    "\n",
    "model.add(Conv2D(64, kernel_size=(3, 3), activation='relu', input_shape=input_shape))\n",
    "model.add(Conv2D(64, (3, 3), activation='relu'))\n",
    "model.add(MaxPooling2D(pool_size=(2, 2)))\n",
    "model.add(Dropout(0.25))\n",
    "\n",
    "\n",
    "model.add(Flatten())\n",
    "model.add(Dense(512, activation='relu'))\n",
    "model.add(Dropout(0.5))\n",
    "model.add(Dense(num_classes, activation='softmax'))"
   ]
  },
  {
   "cell_type": "markdown",
   "metadata": {},
   "source": [
    "A summary of the network structure"
   ]
  },
  {
   "cell_type": "code",
   "execution_count": null,
   "metadata": {
    "collapsed": false
   },
   "outputs": [],
   "source": [
    "model.summary()"
   ]
  },
  {
   "cell_type": "markdown",
   "metadata": {},
   "source": [
    "Train the network"
   ]
  },
  {
   "cell_type": "code",
   "execution_count": null,
   "metadata": {
    "collapsed": false
   },
   "outputs": [],
   "source": [
    "modelname = 'PB19_network.dms'\n",
    "if FFP:\n",
    "    modelname = 'PB19_FFP_network.dms'\n",
    "\n",
    "epochs = 12\n",
    "model.compile(loss=keras.losses.categorical_crossentropy,\n",
    "              optimizer=keras.optimizers.Adadelta(),\n",
    "              metrics=['accuracy'])\n",
    "\n",
    "model.fit(x_train, y_train,\n",
    "          batch_size=batch_size,\n",
    "          epochs=epochs,\n",
    "          verbose=1,\n",
    "          validation_data=(x_test, y_test))\n",
    "\n",
    "model.save(modelname)"
   ]
  }
 ],
 "metadata": {
  "anaconda-cloud": {},
  "kernelspec": {
   "display_name": "Python [anaconda3]",
   "language": "python",
   "name": "Python [anaconda3]"
  },
  "language_info": {
   "codemirror_mode": {
    "name": "ipython",
    "version": 3
   },
   "file_extension": ".py",
   "mimetype": "text/x-python",
   "name": "python",
   "nbconvert_exporter": "python",
   "pygments_lexer": "ipython3",
   "version": "3.5.2"
  }
 },
 "nbformat": 4,
 "nbformat_minor": 1
}
