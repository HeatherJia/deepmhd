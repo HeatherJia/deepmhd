{
 "cells": [
  {
   "cell_type": "code",
   "execution_count": 2,
   "metadata": {
    "collapsed": true
   },
   "outputs": [],
   "source": [
    "import numpy as np\n",
    "from tqdm import *\n",
    "from astropy.io import fits\n",
    "from skimage import exposure"
   ]
  },
  {
   "cell_type": "markdown",
   "metadata": {},
   "source": [
    "Define simualtion data names"
   ]
  },
  {
   "cell_type": "code",
   "execution_count": 2,
   "metadata": {
    "collapsed": true
   },
   "outputs": [],
   "source": [
    "# super-alfvénic\n",
    "sup_alfven_1 = 'dens.b1_p01_num1.fits'\n",
    "sup_alfven_2 = 'dens.b1_p01_num2.fits'\n",
    "# sub-alfvénic\n",
    "sub_alfven_1 = 'dens.b01_p01_num1.fits'\n",
    "sub_alfven_2 = 'dens.b01_p01_num2.fits'"
   ]
  },
  {
   "cell_type": "code",
   "execution_count": 3,
   "metadata": {
    "collapsed": true
   },
   "outputs": [],
   "source": [
    "# code to extract the images\n",
    "def makeimages(data, imsize, nx, sh, nsh, filename, killpwr=False):\n",
    "    imsize = int(imsize)\n",
    "    dsh = data.shape\n",
    "    newdata = data\n",
    "    cube = np.zeros([imsize, imsize, int(dsh[2]*nsh*nsh*nx*nx)])\n",
    "    iterct = 0\n",
    "    for s in np.arange(dsh[2]):\n",
    "        if killpwr:\n",
    "            img = data[:, :, s]\n",
    "            fftsl= np.fft.fft2(img)\n",
    "            normalized = fftsl/np.abs(fftsl)\n",
    "            newimg = np.real(np.fft.ifft2(normalized))\n",
    "            newdata[:, :, s] = newimg\n",
    "    for s in tqdm(np.arange(dsh[2])):\n",
    "        for r in np.arange(nsh):\n",
    "            for q in np.arange(nsh):\n",
    "                fullimg = np.roll(np.roll(newdata[:, :, s], int(r*sh+s), axis=0), int(q*sh+s), axis=1)\n",
    "                for i in np.arange(nx):\n",
    "                    for j in np.arange(nx):\n",
    "                        toimg = fullimg[int(i*imsize):int((i+1)*imsize), int(j*imsize):int((j+1)*imsize)]\n",
    "                        exeq = exposure.equalize_hist(toimg)\n",
    "                        cube[:, :, iterct] = exeq\n",
    "                        iterct = iterct +1\n",
    "                        #plt.imshow(toimg)\n",
    "                        #print(np.max(toimg))\n",
    "                        exeq = exeq.reshape([imsize, imsize, 1])*np.ones([imsize, imsize, 3])*255\n",
    "                        img = Image.fromarray(exeq.astype('int8'), mode='RGB')\n",
    "    return cube"
   ]
  },
  {
   "cell_type": "markdown",
   "metadata": {},
   "source": [
    "Some basic parameters for image extraction"
   ]
  },
  {
   "cell_type": "code",
   "execution_count": null,
   "metadata": {
    "collapsed": true
   },
   "outputs": [],
   "source": [
    "# The size of the images to make\n",
    "imsize = 128\n",
    "# The \"striding\"\n",
    "nsh = 2\n",
    "# The stride size\n",
    "sh = imsize/nsh\n",
    "# The number of images across a cube\n",
    "nx = 4"
   ]
  },
  {
   "cell_type": "markdown",
   "metadata": {},
   "source": [
    "Extract the images for the sub-Alfvénic simulation"
   ]
  },
  {
   "cell_type": "code",
   "execution_count": 18,
   "metadata": {
    "collapsed": false
   },
   "outputs": [
    {
     "name": "stderr",
     "output_type": "stream",
     "text": [
      "                                                                       "
     ]
    },
    {
     "name": "stdout",
     "output_type": "stream",
     "text": [
      "\r"
     ]
    }
   ],
   "source": [
    "#Make the training data for sub-alfvenic\n",
    "cube = fits.getdata(sub_alfven_1)\n",
    "data = np.log10(cube)\n",
    "data = (data- np.nanmin(data))/(np.nanmax(data)- np.nanmin(data))*255.0\n",
    "shcube = data.shape\n",
    "data[~np.isfinite(data)] = 0.\n",
    "\n",
    "train_x = makeimages(data[:, :, 0:96*4], int(imsize), nx, sh, nsh, killpwr=False)\n",
    "np.save('b1p.01XY_train_ss1_sh_64_ims_128.npy', train_x)\n",
    "\n",
    "#Make the test data for sub-alfvenic\n",
    "test_x = makeimages(data[:, :, (128-16-8)*4:-8*4], int(imsize), nx, sh, nsh, killpwr=False)\n",
    "np.save('b1p.01XY_test_ss1_sh_64_ims_128.npy', test_x)\n",
    "\n",
    "#repeat, but for FFP tests \n",
    "\n",
    "train_x = makeimages(data[:, :, 0:96*4], int(imsize), nx, sh, nsh, killpwr=True)\n",
    "np.save('b1p.01XY_train_kp_ss1_sh_64_ims_128.npy', train_x)\n",
    "\n",
    "#Make the test data for sub-alfvenic\n",
    "test_x = makeimages(data[:, :, (128-16-8)*4:-8*4], int(imsize), nx, sh, nsh, killpwr=True)\n",
    "np.save('b1p.01XY_test_kp_ss1_sh_64_ims_128.npy', test_x)\n",
    "\n",
    "#now repeat for the second snapshot\n",
    "\n",
    "cube = fits.getdata(sub_alfven_2)\n",
    "data = np.log10(cube)\n",
    "data = (data- np.nanmin(data))/(np.nanmax(data)- np.nanmin(data))*255.0\n",
    "shcube = data.shape\n",
    "data[~np.isfinite(data)] = 0.\n",
    "\n",
    "train_x = makeimages(data[:, :, 0:96*4], int(imsize), nx, sh, nsh, killpwr=False)\n",
    "np.save('b1p.01XY_train_ss1_sh_64_ims_128_2.npy', train_x)\n",
    "\n",
    "#Make the test data for sub-alfvenic\n",
    "test_x = makeimages(data[:, :, (128-16-8)*4:-8*4], int(imsize), nx, sh, nsh, killpwr=False)\n",
    "np.save('b1p.01XY_test_ss1_sh_64_ims_128_2.npy', test_x)\n",
    "\n",
    "#repeat, but for FFP tests \n",
    "\n",
    "train_x = makeimages(data[:, :, 0:96*4], int(imsize), nx, sh, nsh, killpwr=True)\n",
    "np.save('b1p.01XY_train_kp_ss1_sh_64_ims_128_2.npy', train_x)\n",
    "\n",
    "#Make the test data for sub-alfvenic\n",
    "test_x = makeimages(data[:, :, (128-16-8)*4:-8*4], int(imsize), nx, sh, nsh, killpwr=True)\n",
    "np.save('b1p.01XY_test_kp_ss1_sh_64_ims_128_2.npy', test_x)\n"
   ]
  },
  {
   "cell_type": "markdown",
   "metadata": {},
   "source": [
    "Extract the images for the super-Alfvénic simulation"
   ]
  },
  {
   "cell_type": "code",
   "execution_count": null,
   "metadata": {
    "collapsed": true
   },
   "outputs": [],
   "source": [
    "#Make the training data for super-alfvenic\n",
    "cube = fits.getdata(super_alfven_1)\n",
    "data = np.log10(cube)\n",
    "data = (data- np.nanmin(data))/(np.nanmax(data)- np.nanmin(data))*255.0\n",
    "shcube = data.shape\n",
    "data[~np.isfinite(data)] = 0.\n",
    "\n",
    "train_x = makeimages(data[:, :, 0:96*4], int(imsize), nx, sh, nsh, killpwr=False)\n",
    "np.save('b.1p.01XY_train_ss1_sh_64_ims_128.npy', train_x)\n",
    "\n",
    "#Make the test data for super-alfvenic\n",
    "test_x = makeimages(data[:, :, (128-16-8)*4:-8*4], int(imsize), nx, sh, nsh, killpwr=False)\n",
    "np.save('b.1p.01XY_test_ss1_sh_64_ims_128.npy', test_x)\n",
    "\n",
    "#repeat, but for FFP tests \n",
    "\n",
    "train_x = makeimages(data[:, :, 0:96*4], int(imsize), nx, sh, nsh, killpwr=True)\n",
    "np.save('b.1p.01XY_train_kp_ss1_sh_64_ims_128.npy', train_x)\n",
    "\n",
    "#Make the test data for super-alfvenic\n",
    "test_x = makeimages(data[:, :, (128-16-8)*4:-8*4], int(imsize), nx, sh, nsh, killpwr=True)\n",
    "np.save('b.1p.01XY_test_kp_ss1_sh_64_ims_128.npy', test_x)\n",
    "\n",
    "#now repeat for the second snapshot\n",
    "\n",
    "cube = fits.getdata(super_alfven_2)\n",
    "data = np.log10(cube)\n",
    "data = (data- np.nanmin(data))/(np.nanmax(data)- np.nanmin(data))*255.0\n",
    "shcube = data.shape\n",
    "data[~np.isfinite(data)] = 0.\n",
    "\n",
    "train_x = makeimages(data[:, :, 0:96*4], int(imsize), nx, sh, nsh, killpwr=False)\n",
    "np.save('b.1p.01XY_train_ss1_sh_64_ims_128_2.npy', train_x)\n",
    "\n",
    "#Make the test data for super-alfvenic\n",
    "test_x = makeimages(data[:, :, (128-16-8)*4:-8*4], int(imsize), nx, sh, nsh, killpwr=False)\n",
    "np.save('b.1p.01XY_test_ss1_sh_64_ims_128_2.npy', test_x)\n",
    "\n",
    "#repeat, but for FFP tests \n",
    "\n",
    "train_x = makeimages(data[:, :, 0:96*4], int(imsize), nx, sh, nsh, killpwr=True)\n",
    "np.save('b.1p.01XY_train_kp_ss1_sh_64_ims_128_2.npy', train_x)\n",
    "\n",
    "#Make the test data for super-alfvenic\n",
    "test_x = makeimages(data[:, :, (128-16-8)*4:-8*4], int(imsize), nx, sh, nsh, killpwr=True)\n",
    "np.save('b.1p.01XY_test_kp_ss1_sh_64_ims_128_2.npy', test_x)\n"
   ]
  }
 ],
 "metadata": {
  "anaconda-cloud": {},
  "kernelspec": {
   "display_name": "Python [anaconda3]",
   "language": "python",
   "name": "Python [anaconda3]"
  },
  "language_info": {
   "codemirror_mode": {
    "name": "ipython",
    "version": 3
   },
   "file_extension": ".py",
   "mimetype": "text/x-python",
   "name": "python",
   "nbconvert_exporter": "python",
   "pygments_lexer": "ipython3",
   "version": "3.5.2"
  }
 },
 "nbformat": 4,
 "nbformat_minor": 1
}
