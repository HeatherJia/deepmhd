{
 "cells": [
  {
   "cell_type": "code",
   "execution_count": null,
   "metadata": {
    "collapsed": false
   },
   "outputs": [],
   "source": [
    "import keras\n",
    "from keras.datasets import mnist\n",
    "from keras.models import Sequential\n",
    "from keras.layers import Dense, Dropout, Flatten\n",
    "from keras.layers import Conv2D, MaxPooling2D\n",
    "from keras import backend as K\n",
    "import numpy as np\n",
    "%matplotlib inline\n",
    "from matplotlib import pyplot as plt\n",
    "from keras.models import load_model"
   ]
  },
  {
   "cell_type": "markdown",
   "metadata": {},
   "source": [
    "Read in the data"
   ]
  },
  {
   "cell_type": "code",
   "execution_count": null,
   "metadata": {
    "collapsed": false
   },
   "outputs": [],
   "source": [
    "# you can set this to True to test the Fixed Fourier Power data\n",
    "FFP = False\n",
    "ffpname = ''\n",
    "if FFP:\n",
    "    ffpname='_kp'\n",
    "\n",
    "batch_size = 128\n",
    "num_classes = 2\n",
    "\n",
    "#load in the test data from both snapshots\n",
    "path = '/Users/jegpeek/Dropbox/turb_sim_ism_DL/'\n",
    "test_x_b1_1 = np.load(path+'b1p.01XY_test'+ffpname+'_ss1_sh_64_ims_128.npy')\n",
    "test_x_b1_2 = np.load(path+'b1p.01XY_test'+ffpname+'_ss1_sh_64_ims_128_2.npy')\n",
    "test_x_b1 = np.concatenate((test_x_b1_1, test_x_b1_2), axis=2)\n",
    "\n",
    "test_x_b01_1 = np.load(path+'b.1p.01XY_test'+ffpname+'_ss1_sh_64_ims_128.npy')\n",
    "test_x_b01_2 = np.load(path+'b.1p.01XY_test'+ffpname+'_ss1_sh_64_ims_128_2.npy')\n",
    "test_x_b01 = np.concatenate((test_x_b01_1, test_x_b01_2), axis=2)\n",
    "\n",
    "teshape = test_x_b1.shape\n",
    "\n",
    "img_rows, img_cols = teshape[0], teshape[1]\n",
    "\n",
    "x_test = np.zeros([teshape[2]*2, img_rows, img_rows])\n",
    "x_test[::2, :, :] = np.transpose(test_x_b01)\n",
    "x_test[1::2, :, :] = np.transpose(test_x_b1)\n",
    "\n",
    "y_test = np.zeros([teshape[2]*2])\n",
    "y_test[::2] = np.zeros([teshape[2]])\n",
    "y_test[1::2] = np.ones([teshape[2]])\n"
   ]
  },
  {
   "cell_type": "markdown",
   "metadata": {},
   "source": [
    "The data need a little more reshaping depending on how you have Keras set up"
   ]
  },
  {
   "cell_type": "code",
   "execution_count": null,
   "metadata": {
    "collapsed": false
   },
   "outputs": [],
   "source": [
    "if K.image_data_format() == 'channels_first':\n",
    "    \n",
    "    x_test = x_test.reshape(x_test.shape[0], 1, img_rows, img_cols)\n",
    "    input_shape = (1, img_rows, img_cols)\n",
    "else:\n",
    "    \n",
    "    x_test = x_test.reshape(x_test.shape[0], img_rows, img_cols, 1)\n",
    "    input_shape = (img_rows, img_cols, 1)\n",
    "\n",
    "\n",
    "x_test = x_test.astype('float32')\n",
    "\n",
    "# convert class vectors to binary class matrices\n",
    "y_test = keras.utils.to_categorical(y_test, num_classes)\n",
    "\n"
   ]
  },
  {
   "cell_type": "markdown",
   "metadata": {},
   "source": [
    "Load the network"
   ]
  },
  {
   "cell_type": "code",
   "execution_count": null,
   "metadata": {
    "collapsed": false
   },
   "outputs": [],
   "source": [
    "modelname = 'PB19_network.dms'\n",
    "if FFP:\n",
    "    modelname = 'PB19_FFP_network.dms'\n",
    "\n",
    "model = load_model(modelname)"
   ]
  },
  {
   "cell_type": "markdown",
   "metadata": {},
   "source": [
    "Test the network"
   ]
  },
  {
   "cell_type": "code",
   "execution_count": null,
   "metadata": {
    "collapsed": false
   },
   "outputs": [],
   "source": [
    "score = model.evaluate(x_test, y_test, verbose=0)\n",
    "print('Test loss:', score[0])\n",
    "print('Test accuracy:', score[1])"
   ]
  }
 ],
 "metadata": {
  "anaconda-cloud": {},
  "kernelspec": {
   "display_name": "Python [anaconda3]",
   "language": "python",
   "name": "Python [anaconda3]"
  },
  "language_info": {
   "codemirror_mode": {
    "name": "ipython",
    "version": 3
   },
   "file_extension": ".py",
   "mimetype": "text/x-python",
   "name": "python",
   "nbconvert_exporter": "python",
   "pygments_lexer": "ipython3",
   "version": "3.5.2"
  }
 },
 "nbformat": 4,
 "nbformat_minor": 1
}
